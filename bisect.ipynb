{
  "nbformat": 4,
  "nbformat_minor": 0,
  "metadata": {
    "colab": {
      "provenance": [],
      "authorship_tag": "ABX9TyN2Ef1e9pCqzCwW79lk1qE9",
      "include_colab_link": true
    },
    "kernelspec": {
      "name": "python3",
      "display_name": "Python 3"
    },
    "language_info": {
      "name": "python"
    }
  },
  "cells": [
    {
      "cell_type": "markdown",
      "metadata": {
        "id": "view-in-github",
        "colab_type": "text"
      },
      "source": [
        "<a href=\"https://colab.research.google.com/github/Daesun97/python3/blob/master/bisect.ipynb\" target=\"_parent\"><img src=\"https://colab.research.google.com/assets/colab-badge.svg\" alt=\"Open In Colab\"/></a>"
      ]
    },
    {
      "cell_type": "markdown",
      "source": [
        "이진탐색"
      ],
      "metadata": {
        "id": "jsgjhIqyLcCE"
      }
    },
    {
      "cell_type": "code",
      "source": [
        "from bisect import bisect, insort\n",
        "\n",
        "bisect_left(리스트, 찾을 값)\n",
        "                    #왼쪽인덱스 구함\n",
        "bisect_right(리스트, 찾을 값)\n",
        "                    #오른쪽인덱스 구함"
      ],
      "metadata": {
        "id": "Ds9vq2lAKTq8"
      },
      "execution_count": null,
      "outputs": []
    },
    {
      "cell_type": "markdown",
      "source": [
        "예 1"
      ],
      "metadata": {
        "id": "k5dKDDHRKSm1"
      }
    },
    {
      "cell_type": "code",
      "execution_count": 1,
      "metadata": {
        "colab": {
          "base_uri": "https://localhost:8080/"
        },
        "id": "iUuDEGueIbnR",
        "outputId": "b2cd6286-cc70-48fc-d143-35c3f45ac59f"
      },
      "outputs": [
        {
          "output_type": "stream",
          "name": "stdout",
          "text": [
            "4\n",
            "5\n"
          ]
        }
      ],
      "source": [
        "from bisect import bisect_left, bisect_right\n",
        "\n",
        "nums = [1,2,3,4,5,6,7,8,9]\n",
        "n = 5\n",
        "\n",
        "print(bisect_left(nums, n))\n",
        "print(bisect_right(nums, n))"
      ]
    },
    {
      "cell_type": "markdown",
      "source": [
        "속도가 O(logN)으로 그냥 for 문으로 구하는 방식O(n)보다 빠름"
      ],
      "metadata": {
        "id": "_6gWCRd3PWSB"
      }
    }
  ]
}